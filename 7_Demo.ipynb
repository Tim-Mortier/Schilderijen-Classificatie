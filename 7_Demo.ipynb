{
 "cells": [
  {
   "cell_type": "code",
   "execution_count": 54,
   "metadata": {},
   "outputs": [],
   "source": [
    "import tensorflow as tf\n",
    "import numpy as np\n",
    "from tensorflow.keras.applications.xception import preprocess_input\n",
    "from PIL import Image\n",
    "\n",
    "model = tf.keras.models.load_model(\"final_model.keras\")\n",
    "painters = [\"Mondriaan\", \"Rembrandt\", \"Rubens\", \"Picasso\"]\n",
    "\n",
    "\n",
    "def preprocess_image(image_path):\n",
    "    image = Image.open(image_path)  \n",
    "    image = image.resize((108, 106)) \n",
    "    image_array = np.array(image)  \n",
    "    image_array = preprocess_input(image_array)\n",
    "    return np.expand_dims(image_array, axis=0) \n",
    "\n",
    "def classify_painting(image_path, print_prediction=False):\n",
    "    preprocessed_image = preprocess_image(image_path)\n",
    "    predictions = model.predict(preprocessed_image)\n",
    "    painter_index = np.argmax(predictions)\n",
    "    print(\"Computer says: \", painters[painter_index])\n",
    "    if print_prediction:\n",
    "        for i in range(len(painters)):\n",
    "            print(f\"{painters[i]}: {predictions[0][i]:.2f}\")"
   ]
  },
  {
   "cell_type": "code",
   "execution_count": 55,
   "metadata": {},
   "outputs": [
    {
     "name": "stdout",
     "output_type": "stream",
     "text": [
      "\u001b[1m1/1\u001b[0m \u001b[32m━━━━━━━━━━━━━━━━━━━━\u001b[0m\u001b[37m\u001b[0m \u001b[1m1s\u001b[0m 1s/step\n",
      "Computer says:  Rubens\n",
      "Mondriaan: 0.00\n",
      "Rembrandt: 0.00\n",
      "Rubens: 1.00\n",
      "Picasso: 0.00\n"
     ]
    }
   ],
   "source": [
    "classify_painting(\"images/Picasso/186.jpg\", print_prediction=True)"
   ]
  },
  {
   "cell_type": "markdown",
   "metadata": {},
   "source": []
  }
 ],
 "metadata": {
  "kernelspec": {
   "display_name": "tf",
   "language": "python",
   "name": "python3"
  },
  "language_info": {
   "codemirror_mode": {
    "name": "ipython",
    "version": 3
   },
   "file_extension": ".py",
   "mimetype": "text/x-python",
   "name": "python",
   "nbconvert_exporter": "python",
   "pygments_lexer": "ipython3",
   "version": "3.9.21"
  }
 },
 "nbformat": 4,
 "nbformat_minor": 2
}
