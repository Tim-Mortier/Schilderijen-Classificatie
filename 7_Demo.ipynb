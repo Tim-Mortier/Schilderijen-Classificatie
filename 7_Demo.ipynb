{
 "cells": [
  {
   "cell_type": "code",
   "execution_count": 2,
   "metadata": {},
   "outputs": [
    {
     "name": "stderr",
     "output_type": "stream",
     "text": [
      "I0000 00:00:1736068415.605351     857 gpu_device.cc:2022] Created device /job:localhost/replica:0/task:0/device:GPU:0 with 5582 MB memory:  -> device: 0, name: NVIDIA GeForce RTX 3070 Laptop GPU, pci bus id: 0000:01:00.0, compute capability: 8.6\n"
     ]
    }
   ],
   "source": [
    "import tensorflow as tf\n",
    "import numpy as np\n",
    "from tensorflow.keras.applications.xception import preprocess_input\n",
    "from PIL import Image\n",
    "\n",
    "model = tf.keras.models.load_model(\"final_model.keras\")\n",
    "painters = [\"Mondriaan\", \"Rembrandt\", \"Rubens\", \"Picasso\"]\n",
    "\n",
    "\n",
    "def preprocess_image(image_path):\n",
    "    image = Image.open(image_path)  \n",
    "    image = image.resize((108, 106)) \n",
    "    image_array = np.array(image)  \n",
    "    image_array = preprocess_input(image_array)\n",
    "    return np.expand_dims(image_array, axis=0) \n",
    "\n",
    "def classify_painting(image_path, print_prediction=False):\n",
    "    preprocessed_image = preprocess_image(image_path)\n",
    "    predictions = model.predict(preprocessed_image)\n",
    "    painter_index = np.argmax(predictions)\n",
    "    print(\"Computer says: \", painters[painter_index])\n",
    "    if print_prediction:\n",
    "        for i in range(len(painters)):\n",
    "            print(f\"{painters[i]}: {predictions[0][i]:.2f}\")"
   ]
  },
  {
   "cell_type": "code",
   "execution_count": 4,
   "metadata": {},
   "outputs": [
    {
     "name": "stdout",
     "output_type": "stream",
     "text": [
      "\u001b[1m1/1\u001b[0m \u001b[32m━━━━━━━━━━━━━━━━━━━━\u001b[0m\u001b[37m\u001b[0m \u001b[1m0s\u001b[0m 52ms/step\n",
      "Computer says:  Picasso\n",
      "Mondriaan: 0.00\n",
      "Rembrandt: 0.00\n",
      "Rubens: 0.00\n",
      "Picasso: 1.00\n"
     ]
    }
   ],
   "source": [
    "classify_painting(\"images/Rembrandt/186.jpg\", print_prediction=True)"
   ]
  },
  {
   "cell_type": "markdown",
   "metadata": {},
   "source": []
  }
 ],
 "metadata": {
  "kernelspec": {
   "display_name": "tf",
   "language": "python",
   "name": "python3"
  },
  "language_info": {
   "codemirror_mode": {
    "name": "ipython",
    "version": 3
   },
   "file_extension": ".py",
   "mimetype": "text/x-python",
   "name": "python",
   "nbconvert_exporter": "python",
   "pygments_lexer": "ipython3",
   "version": "3.9.21"
  }
 },
 "nbformat": 4,
 "nbformat_minor": 2
}
