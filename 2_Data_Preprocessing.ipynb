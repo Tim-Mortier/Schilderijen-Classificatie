{
 "cells": [
  {
   "cell_type": "code",
   "execution_count": 19,
   "metadata": {},
   "outputs": [],
   "source": [
    "import os\n",
    "from PIL import Image\n",
    "import shutil"
   ]
  },
  {
   "cell_type": "markdown",
   "metadata": {},
   "source": [
    "Preprocessing"
   ]
  },
  {
   "cell_type": "markdown",
   "metadata": {},
   "source": [
    "Corrupte afbeeldingen verwijderen:"
   ]
  },
  {
   "cell_type": "code",
   "execution_count": null,
   "metadata": {},
   "outputs": [],
   "source": [
    "images_dir = \"images\"\n",
    "painter_dirs = os.listdir(images_dir)\n",
    "try:\n",
    "    for painter in painter_dirs:\n",
    "        painter_dir = os.path.join(images_dir, painter)\n",
    "        images = os.listdir(painter_dir)\n",
    "        for image in images:\n",
    "            image_path = os.path.join(painter_dir, image)\n",
    "            with Image.open(image_path) as img:\n",
    "                pass\n",
    "except Exception as e:\n",
    "    os.remove(image_path)\n",
    "    print(f\"Removed {image_path} due to error: {e}\")"
   ]
  },
  {
   "cell_type": "markdown",
   "metadata": {},
   "source": [
    "Andere formaten omzetten:"
   ]
  },
  {
   "cell_type": "code",
   "execution_count": 12,
   "metadata": {},
   "outputs": [
    {
     "data": {
      "text/plain": [
       "({'JPEG': 2799}, {})"
      ]
     },
     "execution_count": 12,
     "metadata": {},
     "output_type": "execute_result"
    }
   ],
   "source": [
    "def get_formats():\n",
    "    formats_count = {}\n",
    "    other_format_images = {}\n",
    "    for painter in painter_dirs:\n",
    "        painter_dir = os.path.join(images_dir, painter)\n",
    "        images = os.listdir(painter_dir)\n",
    "        for image in images:\n",
    "            image_path = os.path.join(painter_dir, image)\n",
    "            with Image.open(image_path) as img:\n",
    "                formats_count[img.format] = formats_count.get(img.format, 0) + 1\n",
    "                if img.format != \"JPEG\":\n",
    "                    if img.format not in other_format_images:\n",
    "                        other_format_images[img.format] = []\n",
    "                    other_format_images[img.format].append(image_path)\n",
    "    return formats_count, other_format_images\n",
    "get_formats()"
   ]
  },
  {
   "cell_type": "code",
   "execution_count": 11,
   "metadata": {},
   "outputs": [
    {
     "name": "stdout",
     "output_type": "stream",
     "text": [
      "Converted images/Mondriaan/tableay-no-iv-lozenge-composition.png to JPEG\n",
      "Converted images/Picasso/picasso_meisje_met_duif.png to JPEG\n",
      "Converted images/Picasso/0-picassofull-1.JPG to JPEG\n",
      "Converted images/Picasso/0-picassozoomhires.JPG to JPEG\n",
      "Converted images/Picasso/Kopie van 0-picassofull-1.JPG to JPEG\n",
      "Converted images/Picasso/Kopie van 0-picassozoomhires.JPG to JPEG\n",
      "Converted images/Picasso/bust-of-woman-with-yellow-ribbon-jacqueline-1962.jpg to JPEG\n",
      "Converted images/Picasso/woman-with-hat-1962-1.jpg to JPEG\n"
     ]
    }
   ],
   "source": [
    "for image_list in other_format_images.values():\n",
    "    for image in image_list:\n",
    "        img = Image.open(image)\n",
    "        img = img.convert(\"RGB\")\n",
    "        img.save(image, \"JPEG\")\n",
    "        print(f\"Converted {image} to JPEG\")\n",
    "            "
   ]
  },
  {
   "cell_type": "code",
   "execution_count": null,
   "metadata": {},
   "outputs": [],
   "source": [
    "get_formats()"
   ]
  },
  {
   "cell_type": "markdown",
   "metadata": {},
   "source": [
    "Images hernoemen"
   ]
  },
  {
   "cell_type": "code",
   "execution_count": 13,
   "metadata": {},
   "outputs": [],
   "source": [
    "for painter in painter_dirs:\n",
    "    painter_dir = os.path.join(images_dir, painter)\n",
    "    images = os.listdir(painter_dir)\n",
    "    for i, image in enumerate(images):\n",
    "        image_path = os.path.join(painter_dir, image)\n",
    "        new_image_path = os.path.join(painter_dir, f\"{i}.jpg\")\n",
    "        os.rename(image_path, new_image_path)"
   ]
  },
  {
   "cell_type": "markdown",
   "metadata": {},
   "source": [
    "Opslaan"
   ]
  },
  {
   "cell_type": "code",
   "execution_count": null,
   "metadata": {},
   "outputs": [],
   "source": [
    "os.zipfile(\"images.zip\", \"cleaned_images\")"
   ]
  },
  {
   "cell_type": "markdown",
   "metadata": {},
   "source": [
    "Dataset creatie"
   ]
  },
  {
   "cell_type": "code",
   "execution_count": 14,
   "metadata": {},
   "outputs": [],
   "source": [
    "train = 0.6\n",
    "validation = 0.2\n",
    "test = 0.2"
   ]
  },
  {
   "cell_type": "code",
   "execution_count": 15,
   "metadata": {},
   "outputs": [
    {
     "data": {
      "text/plain": [
       "{'Mondriaan': 329, 'Picasso': 1529, 'rembrandt': 259, 'Rubens': 682}"
      ]
     },
     "execution_count": 15,
     "metadata": {},
     "output_type": "execute_result"
    }
   ],
   "source": [
    "painter_image_count = {}\n",
    "for painter in painter_dirs:\n",
    "    painter_dir = os.path.join(images_dir, painter)\n",
    "    images = os.listdir(painter_dir)\n",
    "    painter_image_count[painter] = len(images)\n",
    "painter_image_count"
   ]
  },
  {
   "cell_type": "markdown",
   "metadata": {},
   "source": [
    "Imbalanced"
   ]
  },
  {
   "cell_type": "code",
   "execution_count": 18,
   "metadata": {},
   "outputs": [
    {
     "ename": "NameError",
     "evalue": "name 'shutil' is not defined",
     "output_type": "error",
     "traceback": [
      "\u001b[0;31m---------------------------------------------------------------------------\u001b[0m",
      "\u001b[0;31mNameError\u001b[0m                                 Traceback (most recent call last)",
      "Cell \u001b[0;32mIn[18], line 24\u001b[0m\n\u001b[1;32m     22\u001b[0m \u001b[38;5;28;01melse\u001b[39;00m:\n\u001b[1;32m     23\u001b[0m     new_image_path \u001b[38;5;241m=\u001b[39m os\u001b[38;5;241m.\u001b[39mpath\u001b[38;5;241m.\u001b[39mjoin(test_dir, image)\n\u001b[0;32m---> 24\u001b[0m \u001b[43mshutil\u001b[49m\u001b[38;5;241m.\u001b[39mcopy(image_path, new_image_path)\n",
      "\u001b[0;31mNameError\u001b[0m: name 'shutil' is not defined"
     ]
    }
   ],
   "source": [
    "dataset_name = \"imbalanced_dataset\"\n",
    "os.mkdir(dataset_name)\n",
    "train_dir = os.path.join(dataset_name, \"train\")\n",
    "os.mkdir(train_dir)\n",
    "validation_dir = os.path.join(dataset_name, \"validation\")\n",
    "os.mkdir(validation_dir)\n",
    "test_dir = os.path.join(dataset_name, \"test\")\n",
    "os.mkdir(test_dir)\n",
    "\n",
    "for painter in painter_dirs:\n",
    "    painter_dir = os.path.join(images_dir, painter)\n",
    "    images = os.listdir(painter_dir)\n",
    "    train_count = int(train * painter_image_count[painter])\n",
    "    validation_count = int(validation * painter_image_count[painter])\n",
    "    test_count = int(test * painter_image_count[painter])\n",
    "    for i, image in enumerate(images):\n",
    "        image_path = os.path.join(painter_dir, image)\n",
    "        if i < train_count:\n",
    "            new_image_path = os.path.join(train_dir, image)\n",
    "        elif i < train_count + validation_count:\n",
    "            new_image_path = os.path.join(validation_dir, image)\n",
    "        else:\n",
    "            new_image_path = os.path.join(test_dir, image)\n",
    "        shutil.copy(image_path, new_image_path)"
   ]
  }
 ],
 "metadata": {
  "kernelspec": {
   "display_name": "tf",
   "language": "python",
   "name": "python3"
  },
  "language_info": {
   "codemirror_mode": {
    "name": "ipython",
    "version": 3
   },
   "file_extension": ".py",
   "mimetype": "text/x-python",
   "name": "python",
   "nbconvert_exporter": "python",
   "pygments_lexer": "ipython3",
   "version": "3.9.21"
  }
 },
 "nbformat": 4,
 "nbformat_minor": 2
}
