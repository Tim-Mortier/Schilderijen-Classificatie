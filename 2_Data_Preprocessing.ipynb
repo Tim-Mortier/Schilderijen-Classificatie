{
 "cells": [
  {
   "cell_type": "markdown",
   "metadata": {},
   "source": [
    "# Data preprocessing"
   ]
  },
  {
   "cell_type": "markdown",
   "metadata": {},
   "source": [
    "## Imports"
   ]
  },
  {
   "cell_type": "code",
   "execution_count": 1,
   "metadata": {},
   "outputs": [],
   "source": [
    "import os\n",
    "from PIL import Image\n",
    "import shutil"
   ]
  },
  {
   "cell_type": "markdown",
   "metadata": {},
   "source": [
    "## Preprocessing"
   ]
  },
  {
   "cell_type": "markdown",
   "metadata": {},
   "source": [
    "#### Corrupte afbeeldingen verwijderen:"
   ]
  },
  {
   "cell_type": "code",
   "execution_count": 2,
   "metadata": {},
   "outputs": [],
   "source": [
    "images_dir = \"images\"\n",
    "painter_dirs = os.listdir(images_dir)\n",
    "try:\n",
    "    for painter in painter_dirs:\n",
    "        painter_dir = os.path.join(images_dir, painter)\n",
    "        images = os.listdir(painter_dir)\n",
    "        for image in images:\n",
    "            image_path = os.path.join(painter_dir, image)\n",
    "            with Image.open(image_path) as img:\n",
    "                pass\n",
    "except Exception as e:\n",
    "    os.remove(image_path)\n",
    "    print(f\"Removed {image_path} due to error: {e}\")"
   ]
  },
  {
   "cell_type": "markdown",
   "metadata": {},
   "source": [
    "### Andere formaten omzetten:"
   ]
  },
  {
   "cell_type": "code",
   "execution_count": 5,
   "metadata": {},
   "outputs": [
    {
     "data": {
      "text/plain": [
       "({'JPEG': 2792, 'PNG': 2, 'MPO': 4, 'GIF': 2},\n",
       " {'PNG': ['images/Mondriaan/tableay-no-iv-lozenge-composition.png',\n",
       "   'images/Picasso/picasso_meisje_met_duif.png'],\n",
       "  'MPO': ['images/Picasso/0-picassofull-1.JPG',\n",
       "   'images/Picasso/0-picassozoomhires.JPG',\n",
       "   'images/Picasso/Kopie van 0-picassofull-1.JPG',\n",
       "   'images/Picasso/Kopie van 0-picassozoomhires.JPG'],\n",
       "  'GIF': ['images/Picasso/bust-of-woman-with-yellow-ribbon-jacqueline-1962.jpg',\n",
       "   'images/Picasso/woman-with-hat-1962-1.jpg']})"
      ]
     },
     "execution_count": 5,
     "metadata": {},
     "output_type": "execute_result"
    }
   ],
   "source": [
    "def get_formats():\n",
    "    formats_count = {}\n",
    "    other_format_images = {}\n",
    "    for painter in painter_dirs:\n",
    "        painter_dir = os.path.join(images_dir, painter)\n",
    "        images = os.listdir(painter_dir)\n",
    "        for image in images:\n",
    "            image_path = os.path.join(painter_dir, image)\n",
    "            with Image.open(image_path) as img:\n",
    "                formats_count[img.format] = formats_count.get(img.format, 0) + 1\n",
    "                if img.format != \"JPEG\":\n",
    "                    if img.format not in other_format_images:\n",
    "                        other_format_images[img.format] = []\n",
    "                    other_format_images[img.format].append(image_path)\n",
    "    return formats_count, other_format_images\n",
    "formats_counts, other_format_images = get_formats()\n",
    "formats_counts, other_format_images"
   ]
  },
  {
   "cell_type": "code",
   "execution_count": 6,
   "metadata": {},
   "outputs": [
    {
     "name": "stdout",
     "output_type": "stream",
     "text": [
      "Converted images/Mondriaan/tableay-no-iv-lozenge-composition.png to JPEG\n",
      "Converted images/Picasso/picasso_meisje_met_duif.png to JPEG\n",
      "Converted images/Picasso/0-picassofull-1.JPG to JPEG\n",
      "Converted images/Picasso/0-picassozoomhires.JPG to JPEG\n",
      "Converted images/Picasso/Kopie van 0-picassofull-1.JPG to JPEG\n",
      "Converted images/Picasso/Kopie van 0-picassozoomhires.JPG to JPEG\n",
      "Converted images/Picasso/bust-of-woman-with-yellow-ribbon-jacqueline-1962.jpg to JPEG\n",
      "Converted images/Picasso/woman-with-hat-1962-1.jpg to JPEG\n"
     ]
    }
   ],
   "source": [
    "for image_list in other_format_images.values():\n",
    "    for image in image_list:\n",
    "        img = Image.open(image)\n",
    "        img = img.convert(\"RGB\")\n",
    "        img.save(image, \"JPEG\")\n",
    "        print(f\"Converted {image} to JPEG\")\n",
    "            "
   ]
  },
  {
   "cell_type": "code",
   "execution_count": 7,
   "metadata": {},
   "outputs": [
    {
     "data": {
      "text/plain": [
       "({'JPEG': 2800}, {})"
      ]
     },
     "execution_count": 7,
     "metadata": {},
     "output_type": "execute_result"
    }
   ],
   "source": [
    "get_formats()"
   ]
  },
  {
   "cell_type": "markdown",
   "metadata": {},
   "source": [
    "### Images hernoemen"
   ]
  },
  {
   "cell_type": "code",
   "execution_count": 8,
   "metadata": {},
   "outputs": [],
   "source": [
    "for painter in painter_dirs:\n",
    "    painter_dir = os.path.join(images_dir, painter)\n",
    "    images = os.listdir(painter_dir)\n",
    "    for i, image in enumerate(images):\n",
    "        image_path = os.path.join(painter_dir, image)\n",
    "        new_image_path = os.path.join(painter_dir, f\"{i}.jpg\")\n",
    "        os.rename(image_path, new_image_path)"
   ]
  },
  {
   "cell_type": "markdown",
   "metadata": {},
   "source": [
    "### Opslaan"
   ]
  },
  {
   "cell_type": "code",
   "execution_count": 10,
   "metadata": {},
   "outputs": [
    {
     "data": {
      "text/plain": [
       "'/mnt/c/Users/timmo/OneDrive - Hogeschool VIVES/Documenten/School 2024-2025/Deep Learning/Schilderijen classificeren/Schilderijen-Classificatie/images.zip'"
      ]
     },
     "execution_count": 10,
     "metadata": {},
     "output_type": "execute_result"
    }
   ],
   "source": [
    "shutil.make_archive(\"images\", 'zip', images_dir)"
   ]
  },
  {
   "cell_type": "markdown",
   "metadata": {},
   "source": [
    "## Dataset creatie"
   ]
  },
  {
   "cell_type": "code",
   "execution_count": 11,
   "metadata": {},
   "outputs": [],
   "source": [
    "train = 0.6\n",
    "validation = 0.2\n",
    "test = 0.2"
   ]
  },
  {
   "cell_type": "code",
   "execution_count": 12,
   "metadata": {},
   "outputs": [
    {
     "data": {
      "text/plain": [
       "{'Mondriaan': 330, 'Picasso': 1529, 'rembrandt': 259, 'Rubens': 682}"
      ]
     },
     "execution_count": 12,
     "metadata": {},
     "output_type": "execute_result"
    }
   ],
   "source": [
    "painter_image_count = {}\n",
    "for painter in painter_dirs:\n",
    "    painter_dir = os.path.join(images_dir, painter)\n",
    "    images = os.listdir(painter_dir)\n",
    "    painter_image_count[painter] = len(images)\n",
    "painter_image_count"
   ]
  },
  {
   "cell_type": "code",
   "execution_count": 26,
   "metadata": {},
   "outputs": [],
   "source": [
    "def get_dataset_counts(dataset_dir):\n",
    "    painter_dirs = os.listdir(dataset_dir)\n",
    "    painter_image_count = {}\n",
    "    for painter in painter_dirs:\n",
    "        painter_dir = os.path.join(dataset_dir, painter)\n",
    "        images = os.listdir(painter_dir)\n",
    "        painter_image_count[painter] = len(images)\n",
    "    return painter_image_count"
   ]
  },
  {
   "cell_type": "markdown",
   "metadata": {},
   "source": [
    "### Imbalanced"
   ]
  },
  {
   "cell_type": "code",
   "execution_count": null,
   "metadata": {},
   "outputs": [],
   "source": [
    "dataset_name = \"imbalanced_dataset\"\n",
    "os.makedirs(dataset_name)\n",
    "\n",
    "for painter in painter_dirs:\n",
    "    train_dir = os.path.join(dataset_name, \"train\", painter)\n",
    "    os.makedirs(train_dir)\n",
    "    validation_dir = os.path.join(dataset_name, \"validation\", painter)\n",
    "    os.makedirs(validation_dir)\n",
    "    test_dir = os.path.join(dataset_name, \"test\", painter)\n",
    "    os.makedirs(test_dir)\n",
    "\n",
    "    painter_dir = os.path.join(images_dir, painter)\n",
    "    images = os.listdir(painter_dir)\n",
    "    train_count = int(train * painter_image_count[painter])\n",
    "    validation_count = int(validation * painter_image_count[painter])\n",
    "    # test_count = int(test * painter_image_count[painter])\n",
    "\n",
    "    for i, image in enumerate(images):\n",
    "        image_path = os.path.join(painter_dir, image)\n",
    "        if i < train_count:\n",
    "            new_image_path = os.path.join(train_dir, image)\n",
    "        elif i < train_count + validation_count:\n",
    "            new_image_path = os.path.join(validation_dir, image)\n",
    "        else:\n",
    "            new_image_path = os.path.join(test_dir, image)\n",
    "        shutil.copy(image_path, new_image_path)"
   ]
  },
  {
   "cell_type": "code",
   "execution_count": 28,
   "metadata": {},
   "outputs": [
    {
     "name": "stdout",
     "output_type": "stream",
     "text": [
      "train: {'Mondriaan': 198, 'Picasso': 917, 'rembrandt': 155, 'Rubens': 409}\n",
      "val: {'Mondriaan': 66, 'Picasso': 305, 'rembrandt': 51, 'Rubens': 136}\n",
      "test: {'Mondriaan': 66, 'Picasso': 307, 'rembrandt': 53, 'Rubens': 137}\n"
     ]
    }
   ],
   "source": [
    "train_dir = os.path.join(dataset_name, \"train\")\n",
    "validation_dir = os.path.join(dataset_name, \"validation\")\n",
    "test_dir = os.path.join(dataset_name, \"test\")\n",
    "\n",
    "print(f\"train: {get_dataset_counts(train_dir)}\")\n",
    "print(f\"val: {get_dataset_counts(validation_dir)}\")\n",
    "print(f\"test: {get_dataset_counts(test_dir)}\")"
   ]
  },
  {
   "cell_type": "markdown",
   "metadata": {},
   "source": [
    "### Undersampled"
   ]
  },
  {
   "cell_type": "code",
   "execution_count": 31,
   "metadata": {},
   "outputs": [],
   "source": [
    "dataset_name = \"undersampled_dataset\"\n",
    "min_images = min(painter_image_count.values())\n",
    "\n",
    "for painter in painter_dirs:\n",
    "    train_dir = os.path.join(dataset_name, \"train\", painter)\n",
    "    os.makedirs(train_dir)\n",
    "    validation_dir = os.path.join(dataset_name, \"validation\", painter)\n",
    "    os.makedirs(validation_dir)\n",
    "    test_dir = os.path.join(dataset_name, \"test\", painter)\n",
    "    os.makedirs(test_dir)\n",
    "\n",
    "    painter_dir = os.path.join(images_dir, painter)\n",
    "    images = os.listdir(painter_dir)\n",
    "    train_count = int(train * min_images)\n",
    "    validation_count = int(validation * min_images)\n",
    "    test_count = int(test * min_images)\n",
    "    \n",
    "    for i, image in enumerate(images):\n",
    "        image_path = os.path.join(painter_dir, image)\n",
    "        if i < train_count:\n",
    "            new_image_path = os.path.join(train_dir, image)\n",
    "        elif i < train_count + validation_count:\n",
    "            new_image_path = os.path.join(validation_dir, image)\n",
    "        elif i < train_count + validation_count + test_count:\n",
    "            new_image_path = os.path.join(test_dir, image)\n",
    "        shutil.copy(image_path, new_image_path)"
   ]
  },
  {
   "cell_type": "code",
   "execution_count": 32,
   "metadata": {},
   "outputs": [
    {
     "name": "stdout",
     "output_type": "stream",
     "text": [
      "train: {'Mondriaan': 155, 'Picasso': 155, 'rembrandt': 155, 'Rubens': 155}\n",
      "val: {'Mondriaan': 51, 'Picasso': 51, 'rembrandt': 51, 'Rubens': 51}\n",
      "test: {'Mondriaan': 51, 'Picasso': 51, 'rembrandt': 51, 'Rubens': 51}\n"
     ]
    }
   ],
   "source": [
    "train_dir = os.path.join(dataset_name, \"train\")\n",
    "validation_dir = os.path.join(dataset_name, \"validation\")\n",
    "test_dir = os.path.join(dataset_name, \"test\")\n",
    "\n",
    "print(f\"train: {get_dataset_counts(train_dir)}\")\n",
    "print(f\"val: {get_dataset_counts(validation_dir)}\")\n",
    "print(f\"test: {get_dataset_counts(test_dir)}\")"
   ]
  },
  {
   "cell_type": "markdown",
   "metadata": {},
   "source": [
    "### Oversampled"
   ]
  },
  {
   "cell_type": "code",
   "execution_count": 35,
   "metadata": {},
   "outputs": [],
   "source": [
    "dataset_name = \"oversampled_dataset\"\n",
    "max_images = max(painter_image_count.values())\n",
    "\n",
    "for painter in painter_dirs:\n",
    "    train_dir = os.path.join(dataset_name, \"train\", painter)\n",
    "    os.makedirs(train_dir)\n",
    "    validation_dir = os.path.join(dataset_name, \"validation\", painter)\n",
    "    os.makedirs(validation_dir)\n",
    "    test_dir = os.path.join(dataset_name, \"test\", painter)\n",
    "    os.makedirs(test_dir)\n",
    "\n",
    "    painter_dir = os.path.join(images_dir, painter)\n",
    "    images = os.listdir(painter_dir)\n",
    "    train_count = int(train * max_images)\n",
    "    validation_count = int(validation * max_images)\n",
    "    test_count = int(test * max_images)\n",
    "\n",
    "    if len(images) < max_images:\n",
    "        oversampled_images = []\n",
    "        for i in range(max_images - len(images)):\n",
    "            oversampled_images.append(images[i % len(images)])\n",
    "        images += oversampled_images\n",
    "    \n",
    "    for i, image in enumerate(images):\n",
    "        image_path = os.path.join(painter_dir, image)\n",
    "        new_image_name = f\"{i}.jpg\"\n",
    "        if i < train_count:\n",
    "            new_image_path = os.path.join(train_dir, new_image_name)\n",
    "        elif i < train_count + validation_count:\n",
    "            new_image_path = os.path.join(validation_dir, new_image_name)\n",
    "        elif i < train_count + validation_count + test_count:\n",
    "            new_image_path = os.path.join(test_dir, new_image_name)\n",
    "        shutil.copy(image_path, new_image_path)"
   ]
  },
  {
   "cell_type": "code",
   "execution_count": 36,
   "metadata": {},
   "outputs": [
    {
     "name": "stdout",
     "output_type": "stream",
     "text": [
      "train: {'Mondriaan': 917, 'Picasso': 917, 'rembrandt': 917, 'Rubens': 917}\n",
      "val: {'Mondriaan': 305, 'Picasso': 305, 'rembrandt': 305, 'Rubens': 305}\n",
      "test: {'Mondriaan': 305, 'Picasso': 305, 'rembrandt': 305, 'Rubens': 305}\n"
     ]
    }
   ],
   "source": [
    "train_dir = os.path.join(dataset_name, \"train\")\n",
    "validation_dir = os.path.join(dataset_name, \"validation\")\n",
    "test_dir = os.path.join(dataset_name, \"test\")\n",
    "\n",
    "print(f\"train: {get_dataset_counts(train_dir)}\")\n",
    "print(f\"val: {get_dataset_counts(validation_dir)}\")\n",
    "print(f\"test: {get_dataset_counts(test_dir)}\")"
   ]
  }
 ],
 "metadata": {
  "kernelspec": {
   "display_name": "tf",
   "language": "python",
   "name": "python3"
  },
  "language_info": {
   "codemirror_mode": {
    "name": "ipython",
    "version": 3
   },
   "file_extension": ".py",
   "mimetype": "text/x-python",
   "name": "python",
   "nbconvert_exporter": "python",
   "pygments_lexer": "ipython3",
   "version": "3.9.21"
  }
 },
 "nbformat": 4,
 "nbformat_minor": 2
}
